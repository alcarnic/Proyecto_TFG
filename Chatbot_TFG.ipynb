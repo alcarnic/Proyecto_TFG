{
  "nbformat": 4,
  "nbformat_minor": 0,
  "metadata": {
    "colab": {
      "name": "Chatbot_TFG.ipynb",
      "provenance": [],
      "collapsed_sections": [],
      "authorship_tag": "ABX9TyPLjRX3+3NQnCLLAqwFrsO7",
      "include_colab_link": true
    },
    "kernelspec": {
      "name": "python3",
      "display_name": "Python 3"
    },
    "language_info": {
      "name": "python"
    }
  },
  "cells": [
    {
      "cell_type": "markdown",
      "metadata": {
        "id": "view-in-github",
        "colab_type": "text"
      },
      "source": [
        "<a href=\"https://colab.research.google.com/github/alcarnic/Proyecto_TFG/blob/main/Chatbot_TFG.ipynb\" target=\"_parent\"><img src=\"https://colab.research.google.com/assets/colab-badge.svg\" alt=\"Open In Colab\"/></a>"
      ]
    },
    {
      "cell_type": "code",
      "metadata": {
        "id": "d-blBw1jLgWW"
      },
      "source": [
        "!pip install rasa==1.10.3 # Lib. lenguaje natural"
      ],
      "execution_count": null,
      "outputs": []
    },
    {
      "cell_type": "code",
      "metadata": {
        "id": "qn9hUWZeWehf"
      },
      "source": [
        "!pip install nest_asyncio==1.3.3 # Ejecución asíncrona"
      ],
      "execution_count": null,
      "outputs": []
    },
    {
      "cell_type": "code",
      "metadata": {
        "id": "pXXf-cW0SeU6"
      },
      "source": [
        "!python -m spacy download en # \"Tokenizacion\" del lenguaje natural de entrada"
      ],
      "execution_count": null,
      "outputs": []
    },
    {
      "cell_type": "code",
      "metadata": {
        "id": "2IPK2l8fX2CA"
      },
      "source": [
        "import os # Lib. navegación de directorios similar a cmd\n",
        "import rasa\n",
        "import nest_asyncio\n",
        "\n",
        "nest_asyncio.apply() # Se aplica la asincronía a todo el proyecto"
      ],
      "execution_count": null,
      "outputs": []
    },
    {
      "cell_type": "code",
      "metadata": {
        "id": "z4srgFycaRQx"
      },
      "source": [
        "from rasa.cli.scaffold import create_initial_project # Se crea un proyecto inicial"
      ],
      "execution_count": null,
      "outputs": []
    },
    {
      "cell_type": "code",
      "metadata": {
        "id": "mJrYlwmfam2E"
      },
      "source": [
        "proyecto = \"proyecto-chatbot-TFG\" # Nombre del proyecto\n",
        "create_initial_project(proyecto) # Se inicia el proyecto"
      ],
      "execution_count": null,
      "outputs": []
    },
    {
      "cell_type": "code",
      "metadata": {
        "id": "rOFrvzfnbBhn"
      },
      "source": [
        "# Cambio de directorio al del proyecto \n",
        "# Y muestra de los archivos que se encuentran en él\n",
        "\n",
        "os.chdir(proyecto)\n",
        "print(os.listdir(\".\"))"
      ],
      "execution_count": null,
      "outputs": []
    },
    {
      "cell_type": "code",
      "metadata": {
        "id": "F8XKIRPqeIFP"
      },
      "source": [
        "# Se configuran las variables que contienen \n",
        "# las rutas relativas al proyecto\n",
        "\n",
        "config = \"config.yml\"\n",
        "archivos_entrenamiento = \"data/\"\n",
        "dominio = \"domain.yml\"\n",
        "salida = \"models/\""
      ],
      "execution_count": null,
      "outputs": []
    },
    {
      "cell_type": "code",
      "metadata": {
        "id": "k7RNrPl3eUlx"
      },
      "source": [
        "ruta_modelo = rasa.train(dominio, config, [archivos_entrenamiento], salida) \n",
        "# Archivos_entrenamiento se pasa como lista, por eso va entre corchetes\n",
        "\n",
        "print(ruta_modelo)"
      ],
      "execution_count": null,
      "outputs": []
    },
    {
      "cell_type": "code",
      "metadata": {
        "id": "aatsjpyKglGd"
      },
      "source": [
        "# Librería que incorpora las funciones para que se ejecute el chatbot\n",
        "from rasa.jupyter import chat\n",
        "\n",
        "puntoFinal = \"endpoints.yml\"\n",
        "\n",
        "chat(ruta_modelo, puntoFinal)"
      ],
      "execution_count": null,
      "outputs": []
    },
    {
      "cell_type": "code",
      "metadata": {
        "id": "0hSqrJbbIZgP"
      },
      "source": [
        "%%writefile data/nlu.md\n",
        "\n",
        "## intent:buy_product\n",
        "- i want to buy the product\n",
        "- i want to buy a product\n",
        "\n",
        "## intent:number_product\n",
        "- i want only [1](number)\n",
        "- i want [2](number) please\n",
        "- i need [3](number) products\n",
        "- i would like [4](number) products\n",
        "- may i have [5](number)?\n",
        "- can i get [6](number)?\n",
        "\n",
        "## intent:email\n",
        "- fulanito@gmail.com\n",
        "- menganito@hotmail.com\n",
        "\n",
        "## intent:greet\n",
        "- hey\n",
        "- hello\n",
        "- hi\n",
        "- good morning\n",
        "- good evening\n",
        "- hey there\n",
        "\n",
        "## intent:goodbye\n",
        "- bye\n",
        "- goodbye\n",
        "- see you around\n",
        "- see you later\n",
        "\n",
        "## intent:affirm\n",
        "- yes\n",
        "- indeed\n",
        "- of course\n",
        "- that sounds good\n",
        "- correct\n",
        "\n",
        "## intent:deny\n",
        "- no\n",
        "- never\n",
        "- I don't think so\n",
        "- don't like that\n",
        "- no way\n",
        "- not really\n",
        "\n",
        "## intent:mood_great\n",
        "- perfect\n",
        "- very good\n",
        "- great\n",
        "- amazing\n",
        "- wonderful\n",
        "- I am feeling very good\n",
        "- I am great\n",
        "- I'm good\n",
        "\n",
        "## intent:mood_unhappy\n",
        "- sad\n",
        "- very sad\n",
        "- unhappy\n",
        "- bad\n",
        "- very bad\n",
        "- awful\n",
        "- terrible\n",
        "- not very good\n",
        "- extremely sad\n",
        "- so sad\n",
        "\n",
        "## intent:bot_challenge\n",
        "- are you a bot?\n",
        "- are you a human?\n",
        "- am I talking to a bot?\n",
        "- am I talking to a human?\n",
        "- what are you?"
      ],
      "execution_count": null,
      "outputs": []
    },
    {
      "cell_type": "code",
      "metadata": {
        "id": "DJtC6IfEJm86"
      },
      "source": [
        "%%writefile domain.yml\n",
        "\n",
        "intents:\n",
        "  - greet\n",
        "  - goodbye\n",
        "  - affirm\n",
        "  - deny\n",
        "  - mood_great\n",
        "  - mood_unhappy\n",
        "  - bot_challenge\n",
        "  - buy_product\n",
        "  - number_product\n",
        "  - email\n",
        "\n",
        "responses:\n",
        "  utter_buy_product:\n",
        "  - text:\"how many products do you want to buy?\"\n",
        "\n",
        "  utter_number_product:\n",
        "  - text: \"Alright. May I have your personal e-mail so one of our agents may get in touch with you? (yes/no)\"\n",
        "\n",
        "  utter_affirm:\n",
        "  - text: \"Please, write down your personal e-mail.\"\n",
        "\n",
        "  utter_deny:\n",
        "  - text: \"Please, write /stop to end the chat.\"\n",
        "\n",
        "  utter_greet:\n",
        "  - text: \"Hey! How are you?\"\n",
        "\n",
        "  utter_cheer_up:\n",
        "  - text: \"Here is something to cheer you up:\"\n",
        "    image: \"https://static.boredpanda.com/blog/wp-content/uploads/2019/10/wholesome-cute-duck-pics-12-5da038b0c5f37__700.jpg\"\n",
        "\n",
        "  utter_did_that_help:\n",
        "  - text: \"Did that help you?\"\n",
        "\n",
        "  utter_happy:\n",
        "  - text: \"Great!\"\n",
        "\n",
        "  utter_goodbye:\n",
        "  - text: \"Bye, see you soon!\"\n",
        "\n",
        "  utter_iamabot:\n",
        "  - text: \"I am a bot, powered by Rasa and Alberto C.\"\n",
        "\n",
        "entities:\n",
        "  - number\n",
        "\n",
        "session_config:\n",
        "  session_expiration_time: 60\n",
        "  carry_over_slots_to_new_session: true\n"
      ],
      "execution_count": null,
      "outputs": []
    },
    {
      "cell_type": "code",
      "metadata": {
        "id": "ZEGW_9myPVjr"
      },
      "source": [
        "%%writefile data/stories.md\n",
        "\n",
        "## process completed\n",
        "* greet\n",
        "  - utter_greet\n",
        "* buy_product\n",
        "  - utter_buy_product\n",
        "* number_product\n",
        "  - utter_number_product\n",
        "* affirm\n",
        "  - utter_affirm\n",
        "* email\n",
        "  - utter_happy\n",
        "  - utter_goodbye\n",
        "  - utter_deny\n",
        "\n",
        "## process incompleted\n",
        "* greet\n",
        "  - utter_greet\n",
        "* buy_product\n",
        "  - utter_buy_product\n",
        "* number_product\n",
        "  - utter_number_product\n",
        "* deny\n",
        "  - utter_goodbye\n",
        "  - utter_deny\n",
        "\n",
        "## happy path\n",
        "* greet\n",
        "  - utter_greet\n",
        "* mood_great\n",
        "  - utter_happy\n",
        "\n",
        "## sad path 1\n",
        "* greet\n",
        "  - utter_greet\n",
        "* mood_unhappy\n",
        "  - utter_cheer_up\n",
        "  - utter_did_that_help\n",
        "\n",
        "## sad path 2\n",
        "* greet\n",
        "  - utter_greet\n",
        "* mood_unhappy\n",
        "  - utter_cheer_up\n",
        "  - utter_did_that_help\n",
        "\n",
        "## say goodbye\n",
        "* goodbye\n",
        "  - utter_goodbye\n",
        "\n",
        "## bot challenge\n",
        "* bot_challenge\n",
        "  - utter_iamabot"
      ],
      "execution_count": null,
      "outputs": []
    },
    {
      "cell_type": "code",
      "metadata": {
        "id": "zwP1zbU0YFhf"
      },
      "source": [
        "ruta_modelo = rasa.train(dominio, config, [archivos_entrenamiento], salida)\n",
        "print(ruta_modelo)"
      ],
      "execution_count": null,
      "outputs": []
    },
    {
      "cell_type": "code",
      "metadata": {
        "id": "h7xbVsS-Y0Fk"
      },
      "source": [
        "chat(ruta_modelo, puntoFinal)"
      ],
      "execution_count": null,
      "outputs": []
    },
    {
      "cell_type": "code",
      "metadata": {
        "id": "dF8mWubcbICz"
      },
      "source": [
        "# Librería para testeo del chatbot\n",
        "import rasa.data as data\n",
        "\n",
        "stories_directory, nlu_data_directory = data.get_core_nlu_directories(archivos_entrenamiento)\n",
        "\n",
        "print(stories_directory, nlu_data_directory)"
      ],
      "execution_count": null,
      "outputs": []
    },
    {
      "cell_type": "code",
      "metadata": {
        "id": "RSGEkJSGbPfW"
      },
      "source": [
        "rasa.test(ruta_modelo, stories_directory, nlu_data_directory)\n",
        "\n",
        "print(\"Testeado finalizado.\")"
      ],
      "execution_count": null,
      "outputs": []
    }
  ]
}